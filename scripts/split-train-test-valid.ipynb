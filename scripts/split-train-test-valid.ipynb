{
  "nbformat": 4,
  "nbformat_minor": 0,
  "metadata": {
    "colab": {
      "provenance": []
    },
    "kernelspec": {
      "name": "python3",
      "display_name": "Python 3"
    },
    "language_info": {
      "name": "python"
    }
  },
  "cells": [
    {
      "cell_type": "code",
      "execution_count": 1,
      "metadata": {
        "colab": {
          "base_uri": "https://localhost:8080/"
        },
        "id": "ks5238qL_xk0",
        "outputId": "1abc0613-f3ec-4d76-d5c6-bf0d80a96f0d"
      },
      "outputs": [
        {
          "output_type": "execute_result",
          "data": {
            "text/plain": [
              "[2, 13, 14, 12]"
            ]
          },
          "metadata": {},
          "execution_count": 1
        }
      ],
      "source": [
        "import random\n",
        "\n",
        "# Set the seed for reproducibility\n",
        "random.seed(260836)\n",
        "\n",
        "# Randomly choose four numbers from the range 1-20\n",
        "test = random.sample(range(1, 21), 4)\n",
        "test"
      ]
    },
    {
      "cell_type": "code",
      "source": [
        "# Define the range and exclude training data\n",
        "numbers = [i for i in range(1, 21) if i not in test]\n",
        "\n",
        "# Randomly choose two numbers\n",
        "validation = random.sample(numbers, 2)\n",
        "validation"
      ],
      "metadata": {
        "colab": {
          "base_uri": "https://localhost:8080/"
        },
        "id": "KQ__X66m_y2C",
        "outputId": "c8693479-93f0-4e94-f920-c8bff4ade8b7"
      },
      "execution_count": 2,
      "outputs": [
        {
          "output_type": "execute_result",
          "data": {
            "text/plain": [
              "[11, 8]"
            ]
          },
          "metadata": {},
          "execution_count": 2
        }
      ]
    }
  ]
}